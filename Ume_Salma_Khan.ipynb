{
  "nbformat": 4,
  "nbformat_minor": 0,
  "metadata": {
    "colab": {
      "name": "Ume Salma Khan.ipynb",
      "provenance": [],
      "collapsed_sections": [],
      "include_colab_link": true
    },
    "kernelspec": {
      "name": "python3",
      "display_name": "Python 3"
    },
    "language_info": {
      "name": "python"
    }
  },
  "cells": [
    {
      "cell_type": "markdown",
      "metadata": {
        "id": "view-in-github",
        "colab_type": "text"
      },
      "source": [
        "<a href=\"https://colab.research.google.com/github/UmeSalmaKhan/Task-1-Prediction-using-Supervised-ML/blob/main/Ume_Salma_Khan.ipynb\" target=\"_parent\"><img src=\"https://colab.research.google.com/assets/colab-badge.svg\" alt=\"Open In Colab\"/></a>"
      ]
    },
    {
      "cell_type": "code",
      "execution_count": null,
      "metadata": {
        "id": "gRUFl6RUM1iA"
      },
      "outputs": [],
      "source": [
        "import pandas as pd\n",
        "import numpy as np\n",
        "import seaborn as sns\n",
        "import matplotlib.pyplot\n",
        "import warnings\n",
        "warnings.filterwarnings('ignore')\n",
        "%matplotlib inline"
      ]
    },
    {
      "cell_type": "code",
      "source": [
        "df = pd.read_excel('Transactions datasheet.xlsx')"
      ],
      "metadata": {
        "id": "OeC4Yt8uOrjq"
      },
      "execution_count": null,
      "outputs": []
    },
    {
      "cell_type": "code",
      "source": [
        "df.head()"
      ],
      "metadata": {
        "colab": {
          "base_uri": "https://localhost:8080/",
          "height": 206
        },
        "id": "l6o9XbNhOt6G",
        "outputId": "6dfe0478-b3db-4a0d-eced-6fe8580ca134"
      },
      "execution_count": null,
      "outputs": [
        {
          "output_type": "execute_result",
          "data": {
            "text/plain": [
              "   t  success            mid     pmt           pg               sub_type  \\\n",
              "0  2        1         zivame      NB         PAYU                    NaN   \n",
              "1  1        0      urbanclap      NB        PAYTM                    NaN   \n",
              "2  5        1  pharmeasytech  WALLET  AIRTELMONEY  REDIRECT_WALLET_DEBIT   \n",
              "3  1        1  pharmeasytech    CARD         PAYU                    NaN   \n",
              "4  1        1       fanfight    CARD     RAZORPAY                    NaN   \n",
              "\n",
              "              hr                                 bank  \n",
              "0  2020-02-14 06                              NB_CITI  \n",
              "1  2020-02-14 06                              NB_SYNB  \n",
              "2  2020-02-14 11                          AIRTELMONEY  \n",
              "3  2020-02-14 12  THE SATARA SAHAKARI BANK LTD MUMBAI  \n",
              "4  2020-02-14 06                                  DCB  "
            ],
            "text/html": [
              "\n",
              "  <div id=\"df-70550c5c-652c-4b6d-a600-89bd4a5f0f94\">\n",
              "    <div class=\"colab-df-container\">\n",
              "      <div>\n",
              "<style scoped>\n",
              "    .dataframe tbody tr th:only-of-type {\n",
              "        vertical-align: middle;\n",
              "    }\n",
              "\n",
              "    .dataframe tbody tr th {\n",
              "        vertical-align: top;\n",
              "    }\n",
              "\n",
              "    .dataframe thead th {\n",
              "        text-align: right;\n",
              "    }\n",
              "</style>\n",
              "<table border=\"1\" class=\"dataframe\">\n",
              "  <thead>\n",
              "    <tr style=\"text-align: right;\">\n",
              "      <th></th>\n",
              "      <th>t</th>\n",
              "      <th>success</th>\n",
              "      <th>mid</th>\n",
              "      <th>pmt</th>\n",
              "      <th>pg</th>\n",
              "      <th>sub_type</th>\n",
              "      <th>hr</th>\n",
              "      <th>bank</th>\n",
              "    </tr>\n",
              "  </thead>\n",
              "  <tbody>\n",
              "    <tr>\n",
              "      <th>0</th>\n",
              "      <td>2</td>\n",
              "      <td>1</td>\n",
              "      <td>zivame</td>\n",
              "      <td>NB</td>\n",
              "      <td>PAYU</td>\n",
              "      <td>NaN</td>\n",
              "      <td>2020-02-14 06</td>\n",
              "      <td>NB_CITI</td>\n",
              "    </tr>\n",
              "    <tr>\n",
              "      <th>1</th>\n",
              "      <td>1</td>\n",
              "      <td>0</td>\n",
              "      <td>urbanclap</td>\n",
              "      <td>NB</td>\n",
              "      <td>PAYTM</td>\n",
              "      <td>NaN</td>\n",
              "      <td>2020-02-14 06</td>\n",
              "      <td>NB_SYNB</td>\n",
              "    </tr>\n",
              "    <tr>\n",
              "      <th>2</th>\n",
              "      <td>5</td>\n",
              "      <td>1</td>\n",
              "      <td>pharmeasytech</td>\n",
              "      <td>WALLET</td>\n",
              "      <td>AIRTELMONEY</td>\n",
              "      <td>REDIRECT_WALLET_DEBIT</td>\n",
              "      <td>2020-02-14 11</td>\n",
              "      <td>AIRTELMONEY</td>\n",
              "    </tr>\n",
              "    <tr>\n",
              "      <th>3</th>\n",
              "      <td>1</td>\n",
              "      <td>1</td>\n",
              "      <td>pharmeasytech</td>\n",
              "      <td>CARD</td>\n",
              "      <td>PAYU</td>\n",
              "      <td>NaN</td>\n",
              "      <td>2020-02-14 12</td>\n",
              "      <td>THE SATARA SAHAKARI BANK LTD MUMBAI</td>\n",
              "    </tr>\n",
              "    <tr>\n",
              "      <th>4</th>\n",
              "      <td>1</td>\n",
              "      <td>1</td>\n",
              "      <td>fanfight</td>\n",
              "      <td>CARD</td>\n",
              "      <td>RAZORPAY</td>\n",
              "      <td>NaN</td>\n",
              "      <td>2020-02-14 06</td>\n",
              "      <td>DCB</td>\n",
              "    </tr>\n",
              "  </tbody>\n",
              "</table>\n",
              "</div>\n",
              "      <button class=\"colab-df-convert\" onclick=\"convertToInteractive('df-70550c5c-652c-4b6d-a600-89bd4a5f0f94')\"\n",
              "              title=\"Convert this dataframe to an interactive table.\"\n",
              "              style=\"display:none;\">\n",
              "        \n",
              "  <svg xmlns=\"http://www.w3.org/2000/svg\" height=\"24px\"viewBox=\"0 0 24 24\"\n",
              "       width=\"24px\">\n",
              "    <path d=\"M0 0h24v24H0V0z\" fill=\"none\"/>\n",
              "    <path d=\"M18.56 5.44l.94 2.06.94-2.06 2.06-.94-2.06-.94-.94-2.06-.94 2.06-2.06.94zm-11 1L8.5 8.5l.94-2.06 2.06-.94-2.06-.94L8.5 2.5l-.94 2.06-2.06.94zm10 10l.94 2.06.94-2.06 2.06-.94-2.06-.94-.94-2.06-.94 2.06-2.06.94z\"/><path d=\"M17.41 7.96l-1.37-1.37c-.4-.4-.92-.59-1.43-.59-.52 0-1.04.2-1.43.59L10.3 9.45l-7.72 7.72c-.78.78-.78 2.05 0 2.83L4 21.41c.39.39.9.59 1.41.59.51 0 1.02-.2 1.41-.59l7.78-7.78 2.81-2.81c.8-.78.8-2.07 0-2.86zM5.41 20L4 18.59l7.72-7.72 1.47 1.35L5.41 20z\"/>\n",
              "  </svg>\n",
              "      </button>\n",
              "      \n",
              "  <style>\n",
              "    .colab-df-container {\n",
              "      display:flex;\n",
              "      flex-wrap:wrap;\n",
              "      gap: 12px;\n",
              "    }\n",
              "\n",
              "    .colab-df-convert {\n",
              "      background-color: #E8F0FE;\n",
              "      border: none;\n",
              "      border-radius: 50%;\n",
              "      cursor: pointer;\n",
              "      display: none;\n",
              "      fill: #1967D2;\n",
              "      height: 32px;\n",
              "      padding: 0 0 0 0;\n",
              "      width: 32px;\n",
              "    }\n",
              "\n",
              "    .colab-df-convert:hover {\n",
              "      background-color: #E2EBFA;\n",
              "      box-shadow: 0px 1px 2px rgba(60, 64, 67, 0.3), 0px 1px 3px 1px rgba(60, 64, 67, 0.15);\n",
              "      fill: #174EA6;\n",
              "    }\n",
              "\n",
              "    [theme=dark] .colab-df-convert {\n",
              "      background-color: #3B4455;\n",
              "      fill: #D2E3FC;\n",
              "    }\n",
              "\n",
              "    [theme=dark] .colab-df-convert:hover {\n",
              "      background-color: #434B5C;\n",
              "      box-shadow: 0px 1px 3px 1px rgba(0, 0, 0, 0.15);\n",
              "      filter: drop-shadow(0px 1px 2px rgba(0, 0, 0, 0.3));\n",
              "      fill: #FFFFFF;\n",
              "    }\n",
              "  </style>\n",
              "\n",
              "      <script>\n",
              "        const buttonEl =\n",
              "          document.querySelector('#df-70550c5c-652c-4b6d-a600-89bd4a5f0f94 button.colab-df-convert');\n",
              "        buttonEl.style.display =\n",
              "          google.colab.kernel.accessAllowed ? 'block' : 'none';\n",
              "\n",
              "        async function convertToInteractive(key) {\n",
              "          const element = document.querySelector('#df-70550c5c-652c-4b6d-a600-89bd4a5f0f94');\n",
              "          const dataTable =\n",
              "            await google.colab.kernel.invokeFunction('convertToInteractive',\n",
              "                                                     [key], {});\n",
              "          if (!dataTable) return;\n",
              "\n",
              "          const docLinkHtml = 'Like what you see? Visit the ' +\n",
              "            '<a target=\"_blank\" href=https://colab.research.google.com/notebooks/data_table.ipynb>data table notebook</a>'\n",
              "            + ' to learn more about interactive tables.';\n",
              "          element.innerHTML = '';\n",
              "          dataTable['output_type'] = 'display_data';\n",
              "          await google.colab.output.renderOutput(dataTable, element);\n",
              "          const docLink = document.createElement('div');\n",
              "          docLink.innerHTML = docLinkHtml;\n",
              "          element.appendChild(docLink);\n",
              "        }\n",
              "      </script>\n",
              "    </div>\n",
              "  </div>\n",
              "  "
            ]
          },
          "metadata": {},
          "execution_count": 3
        }
      ]
    },
    {
      "cell_type": "code",
      "source": [
        "df.tail()"
      ],
      "metadata": {
        "colab": {
          "base_uri": "https://localhost:8080/",
          "height": 206
        },
        "id": "N-t6VrptNZ1f",
        "outputId": "bda732ce-8d5b-485a-92c9-b5d49172dc24"
      },
      "execution_count": null,
      "outputs": [
        {
          "output_type": "execute_result",
          "data": {
            "text/plain": [
              "       t  success       mid   pmt          pg sub_type             hr  \\\n",
              "19302  1        1  fanfight  CARD    RAZORPAY      NaN  2020-02-12 03   \n",
              "19303  1        0    zivame  CARD        HDFC      NaN  2020-02-12 02   \n",
              "19304  1        0   drivezy  CARD  GOCASHFREE      NaN  2020-02-12 05   \n",
              "19305  1        1   drivezy  CARD  GOCASHFREE      NaN  2020-02-14 14   \n",
              "19306  1        1    zivame  CARD        HDFC      NaN  2020-02-12 15   \n",
              "\n",
              "                            bank  \n",
              "19302  Oriental Bank of Commerce  \n",
              "19303  Oriental Bank of Commerce  \n",
              "19304  Oriental Bank of Commerce  \n",
              "19305  Oriental Bank of Commerce  \n",
              "19306  Oriental Bank of Commerce  "
            ],
            "text/html": [
              "\n",
              "  <div id=\"df-8d8fad2d-2381-4d82-a112-70b473828a2b\">\n",
              "    <div class=\"colab-df-container\">\n",
              "      <div>\n",
              "<style scoped>\n",
              "    .dataframe tbody tr th:only-of-type {\n",
              "        vertical-align: middle;\n",
              "    }\n",
              "\n",
              "    .dataframe tbody tr th {\n",
              "        vertical-align: top;\n",
              "    }\n",
              "\n",
              "    .dataframe thead th {\n",
              "        text-align: right;\n",
              "    }\n",
              "</style>\n",
              "<table border=\"1\" class=\"dataframe\">\n",
              "  <thead>\n",
              "    <tr style=\"text-align: right;\">\n",
              "      <th></th>\n",
              "      <th>t</th>\n",
              "      <th>success</th>\n",
              "      <th>mid</th>\n",
              "      <th>pmt</th>\n",
              "      <th>pg</th>\n",
              "      <th>sub_type</th>\n",
              "      <th>hr</th>\n",
              "      <th>bank</th>\n",
              "    </tr>\n",
              "  </thead>\n",
              "  <tbody>\n",
              "    <tr>\n",
              "      <th>19302</th>\n",
              "      <td>1</td>\n",
              "      <td>1</td>\n",
              "      <td>fanfight</td>\n",
              "      <td>CARD</td>\n",
              "      <td>RAZORPAY</td>\n",
              "      <td>NaN</td>\n",
              "      <td>2020-02-12 03</td>\n",
              "      <td>Oriental Bank of Commerce</td>\n",
              "    </tr>\n",
              "    <tr>\n",
              "      <th>19303</th>\n",
              "      <td>1</td>\n",
              "      <td>0</td>\n",
              "      <td>zivame</td>\n",
              "      <td>CARD</td>\n",
              "      <td>HDFC</td>\n",
              "      <td>NaN</td>\n",
              "      <td>2020-02-12 02</td>\n",
              "      <td>Oriental Bank of Commerce</td>\n",
              "    </tr>\n",
              "    <tr>\n",
              "      <th>19304</th>\n",
              "      <td>1</td>\n",
              "      <td>0</td>\n",
              "      <td>drivezy</td>\n",
              "      <td>CARD</td>\n",
              "      <td>GOCASHFREE</td>\n",
              "      <td>NaN</td>\n",
              "      <td>2020-02-12 05</td>\n",
              "      <td>Oriental Bank of Commerce</td>\n",
              "    </tr>\n",
              "    <tr>\n",
              "      <th>19305</th>\n",
              "      <td>1</td>\n",
              "      <td>1</td>\n",
              "      <td>drivezy</td>\n",
              "      <td>CARD</td>\n",
              "      <td>GOCASHFREE</td>\n",
              "      <td>NaN</td>\n",
              "      <td>2020-02-14 14</td>\n",
              "      <td>Oriental Bank of Commerce</td>\n",
              "    </tr>\n",
              "    <tr>\n",
              "      <th>19306</th>\n",
              "      <td>1</td>\n",
              "      <td>1</td>\n",
              "      <td>zivame</td>\n",
              "      <td>CARD</td>\n",
              "      <td>HDFC</td>\n",
              "      <td>NaN</td>\n",
              "      <td>2020-02-12 15</td>\n",
              "      <td>Oriental Bank of Commerce</td>\n",
              "    </tr>\n",
              "  </tbody>\n",
              "</table>\n",
              "</div>\n",
              "      <button class=\"colab-df-convert\" onclick=\"convertToInteractive('df-8d8fad2d-2381-4d82-a112-70b473828a2b')\"\n",
              "              title=\"Convert this dataframe to an interactive table.\"\n",
              "              style=\"display:none;\">\n",
              "        \n",
              "  <svg xmlns=\"http://www.w3.org/2000/svg\" height=\"24px\"viewBox=\"0 0 24 24\"\n",
              "       width=\"24px\">\n",
              "    <path d=\"M0 0h24v24H0V0z\" fill=\"none\"/>\n",
              "    <path d=\"M18.56 5.44l.94 2.06.94-2.06 2.06-.94-2.06-.94-.94-2.06-.94 2.06-2.06.94zm-11 1L8.5 8.5l.94-2.06 2.06-.94-2.06-.94L8.5 2.5l-.94 2.06-2.06.94zm10 10l.94 2.06.94-2.06 2.06-.94-2.06-.94-.94-2.06-.94 2.06-2.06.94z\"/><path d=\"M17.41 7.96l-1.37-1.37c-.4-.4-.92-.59-1.43-.59-.52 0-1.04.2-1.43.59L10.3 9.45l-7.72 7.72c-.78.78-.78 2.05 0 2.83L4 21.41c.39.39.9.59 1.41.59.51 0 1.02-.2 1.41-.59l7.78-7.78 2.81-2.81c.8-.78.8-2.07 0-2.86zM5.41 20L4 18.59l7.72-7.72 1.47 1.35L5.41 20z\"/>\n",
              "  </svg>\n",
              "      </button>\n",
              "      \n",
              "  <style>\n",
              "    .colab-df-container {\n",
              "      display:flex;\n",
              "      flex-wrap:wrap;\n",
              "      gap: 12px;\n",
              "    }\n",
              "\n",
              "    .colab-df-convert {\n",
              "      background-color: #E8F0FE;\n",
              "      border: none;\n",
              "      border-radius: 50%;\n",
              "      cursor: pointer;\n",
              "      display: none;\n",
              "      fill: #1967D2;\n",
              "      height: 32px;\n",
              "      padding: 0 0 0 0;\n",
              "      width: 32px;\n",
              "    }\n",
              "\n",
              "    .colab-df-convert:hover {\n",
              "      background-color: #E2EBFA;\n",
              "      box-shadow: 0px 1px 2px rgba(60, 64, 67, 0.3), 0px 1px 3px 1px rgba(60, 64, 67, 0.15);\n",
              "      fill: #174EA6;\n",
              "    }\n",
              "\n",
              "    [theme=dark] .colab-df-convert {\n",
              "      background-color: #3B4455;\n",
              "      fill: #D2E3FC;\n",
              "    }\n",
              "\n",
              "    [theme=dark] .colab-df-convert:hover {\n",
              "      background-color: #434B5C;\n",
              "      box-shadow: 0px 1px 3px 1px rgba(0, 0, 0, 0.15);\n",
              "      filter: drop-shadow(0px 1px 2px rgba(0, 0, 0, 0.3));\n",
              "      fill: #FFFFFF;\n",
              "    }\n",
              "  </style>\n",
              "\n",
              "      <script>\n",
              "        const buttonEl =\n",
              "          document.querySelector('#df-8d8fad2d-2381-4d82-a112-70b473828a2b button.colab-df-convert');\n",
              "        buttonEl.style.display =\n",
              "          google.colab.kernel.accessAllowed ? 'block' : 'none';\n",
              "\n",
              "        async function convertToInteractive(key) {\n",
              "          const element = document.querySelector('#df-8d8fad2d-2381-4d82-a112-70b473828a2b');\n",
              "          const dataTable =\n",
              "            await google.colab.kernel.invokeFunction('convertToInteractive',\n",
              "                                                     [key], {});\n",
              "          if (!dataTable) return;\n",
              "\n",
              "          const docLinkHtml = 'Like what you see? Visit the ' +\n",
              "            '<a target=\"_blank\" href=https://colab.research.google.com/notebooks/data_table.ipynb>data table notebook</a>'\n",
              "            + ' to learn more about interactive tables.';\n",
              "          element.innerHTML = '';\n",
              "          dataTable['output_type'] = 'display_data';\n",
              "          await google.colab.output.renderOutput(dataTable, element);\n",
              "          const docLink = document.createElement('div');\n",
              "          docLink.innerHTML = docLinkHtml;\n",
              "          element.appendChild(docLink);\n",
              "        }\n",
              "      </script>\n",
              "    </div>\n",
              "  </div>\n",
              "  "
            ]
          },
          "metadata": {},
          "execution_count": 4
        }
      ]
    },
    {
      "cell_type": "code",
      "source": [
        "df.shape"
      ],
      "metadata": {
        "colab": {
          "base_uri": "https://localhost:8080/"
        },
        "id": "F9RGT-qPNaM6",
        "outputId": "60b33814-ff4b-4cca-a257-162b1fffb61a"
      },
      "execution_count": null,
      "outputs": [
        {
          "output_type": "execute_result",
          "data": {
            "text/plain": [
              "(19307, 8)"
            ]
          },
          "metadata": {},
          "execution_count": 5
        }
      ]
    },
    {
      "cell_type": "code",
      "source": [
        "df.describe()"
      ],
      "metadata": {
        "colab": {
          "base_uri": "https://localhost:8080/",
          "height": 300
        },
        "id": "gTTuGM9kNaQT",
        "outputId": "5774e9b3-84a9-4206-d632-15667919749a"
      },
      "execution_count": null,
      "outputs": [
        {
          "output_type": "execute_result",
          "data": {
            "text/plain": [
              "                  t       success\n",
              "count  19307.000000  19307.000000\n",
              "mean      11.730201      7.728492\n",
              "std       53.396990     38.175935\n",
              "min        1.000000      0.000000\n",
              "25%        1.000000      1.000000\n",
              "50%        2.000000      1.000000\n",
              "75%        6.000000      4.000000\n",
              "max     3365.000000   2524.000000"
            ],
            "text/html": [
              "\n",
              "  <div id=\"df-05bd914c-3f1b-4880-9e7f-7279c7aff104\">\n",
              "    <div class=\"colab-df-container\">\n",
              "      <div>\n",
              "<style scoped>\n",
              "    .dataframe tbody tr th:only-of-type {\n",
              "        vertical-align: middle;\n",
              "    }\n",
              "\n",
              "    .dataframe tbody tr th {\n",
              "        vertical-align: top;\n",
              "    }\n",
              "\n",
              "    .dataframe thead th {\n",
              "        text-align: right;\n",
              "    }\n",
              "</style>\n",
              "<table border=\"1\" class=\"dataframe\">\n",
              "  <thead>\n",
              "    <tr style=\"text-align: right;\">\n",
              "      <th></th>\n",
              "      <th>t</th>\n",
              "      <th>success</th>\n",
              "    </tr>\n",
              "  </thead>\n",
              "  <tbody>\n",
              "    <tr>\n",
              "      <th>count</th>\n",
              "      <td>19307.000000</td>\n",
              "      <td>19307.000000</td>\n",
              "    </tr>\n",
              "    <tr>\n",
              "      <th>mean</th>\n",
              "      <td>11.730201</td>\n",
              "      <td>7.728492</td>\n",
              "    </tr>\n",
              "    <tr>\n",
              "      <th>std</th>\n",
              "      <td>53.396990</td>\n",
              "      <td>38.175935</td>\n",
              "    </tr>\n",
              "    <tr>\n",
              "      <th>min</th>\n",
              "      <td>1.000000</td>\n",
              "      <td>0.000000</td>\n",
              "    </tr>\n",
              "    <tr>\n",
              "      <th>25%</th>\n",
              "      <td>1.000000</td>\n",
              "      <td>1.000000</td>\n",
              "    </tr>\n",
              "    <tr>\n",
              "      <th>50%</th>\n",
              "      <td>2.000000</td>\n",
              "      <td>1.000000</td>\n",
              "    </tr>\n",
              "    <tr>\n",
              "      <th>75%</th>\n",
              "      <td>6.000000</td>\n",
              "      <td>4.000000</td>\n",
              "    </tr>\n",
              "    <tr>\n",
              "      <th>max</th>\n",
              "      <td>3365.000000</td>\n",
              "      <td>2524.000000</td>\n",
              "    </tr>\n",
              "  </tbody>\n",
              "</table>\n",
              "</div>\n",
              "      <button class=\"colab-df-convert\" onclick=\"convertToInteractive('df-05bd914c-3f1b-4880-9e7f-7279c7aff104')\"\n",
              "              title=\"Convert this dataframe to an interactive table.\"\n",
              "              style=\"display:none;\">\n",
              "        \n",
              "  <svg xmlns=\"http://www.w3.org/2000/svg\" height=\"24px\"viewBox=\"0 0 24 24\"\n",
              "       width=\"24px\">\n",
              "    <path d=\"M0 0h24v24H0V0z\" fill=\"none\"/>\n",
              "    <path d=\"M18.56 5.44l.94 2.06.94-2.06 2.06-.94-2.06-.94-.94-2.06-.94 2.06-2.06.94zm-11 1L8.5 8.5l.94-2.06 2.06-.94-2.06-.94L8.5 2.5l-.94 2.06-2.06.94zm10 10l.94 2.06.94-2.06 2.06-.94-2.06-.94-.94-2.06-.94 2.06-2.06.94z\"/><path d=\"M17.41 7.96l-1.37-1.37c-.4-.4-.92-.59-1.43-.59-.52 0-1.04.2-1.43.59L10.3 9.45l-7.72 7.72c-.78.78-.78 2.05 0 2.83L4 21.41c.39.39.9.59 1.41.59.51 0 1.02-.2 1.41-.59l7.78-7.78 2.81-2.81c.8-.78.8-2.07 0-2.86zM5.41 20L4 18.59l7.72-7.72 1.47 1.35L5.41 20z\"/>\n",
              "  </svg>\n",
              "      </button>\n",
              "      \n",
              "  <style>\n",
              "    .colab-df-container {\n",
              "      display:flex;\n",
              "      flex-wrap:wrap;\n",
              "      gap: 12px;\n",
              "    }\n",
              "\n",
              "    .colab-df-convert {\n",
              "      background-color: #E8F0FE;\n",
              "      border: none;\n",
              "      border-radius: 50%;\n",
              "      cursor: pointer;\n",
              "      display: none;\n",
              "      fill: #1967D2;\n",
              "      height: 32px;\n",
              "      padding: 0 0 0 0;\n",
              "      width: 32px;\n",
              "    }\n",
              "\n",
              "    .colab-df-convert:hover {\n",
              "      background-color: #E2EBFA;\n",
              "      box-shadow: 0px 1px 2px rgba(60, 64, 67, 0.3), 0px 1px 3px 1px rgba(60, 64, 67, 0.15);\n",
              "      fill: #174EA6;\n",
              "    }\n",
              "\n",
              "    [theme=dark] .colab-df-convert {\n",
              "      background-color: #3B4455;\n",
              "      fill: #D2E3FC;\n",
              "    }\n",
              "\n",
              "    [theme=dark] .colab-df-convert:hover {\n",
              "      background-color: #434B5C;\n",
              "      box-shadow: 0px 1px 3px 1px rgba(0, 0, 0, 0.15);\n",
              "      filter: drop-shadow(0px 1px 2px rgba(0, 0, 0, 0.3));\n",
              "      fill: #FFFFFF;\n",
              "    }\n",
              "  </style>\n",
              "\n",
              "      <script>\n",
              "        const buttonEl =\n",
              "          document.querySelector('#df-05bd914c-3f1b-4880-9e7f-7279c7aff104 button.colab-df-convert');\n",
              "        buttonEl.style.display =\n",
              "          google.colab.kernel.accessAllowed ? 'block' : 'none';\n",
              "\n",
              "        async function convertToInteractive(key) {\n",
              "          const element = document.querySelector('#df-05bd914c-3f1b-4880-9e7f-7279c7aff104');\n",
              "          const dataTable =\n",
              "            await google.colab.kernel.invokeFunction('convertToInteractive',\n",
              "                                                     [key], {});\n",
              "          if (!dataTable) return;\n",
              "\n",
              "          const docLinkHtml = 'Like what you see? Visit the ' +\n",
              "            '<a target=\"_blank\" href=https://colab.research.google.com/notebooks/data_table.ipynb>data table notebook</a>'\n",
              "            + ' to learn more about interactive tables.';\n",
              "          element.innerHTML = '';\n",
              "          dataTable['output_type'] = 'display_data';\n",
              "          await google.colab.output.renderOutput(dataTable, element);\n",
              "          const docLink = document.createElement('div');\n",
              "          docLink.innerHTML = docLinkHtml;\n",
              "          element.appendChild(docLink);\n",
              "        }\n",
              "      </script>\n",
              "    </div>\n",
              "  </div>\n",
              "  "
            ]
          },
          "metadata": {},
          "execution_count": 6
        }
      ]
    },
    {
      "cell_type": "code",
      "source": [
        "df.columns"
      ],
      "metadata": {
        "colab": {
          "base_uri": "https://localhost:8080/"
        },
        "id": "UwX_SWa0Navp",
        "outputId": "c1320844-84cf-4de9-e12f-40849707359c"
      },
      "execution_count": null,
      "outputs": [
        {
          "output_type": "execute_result",
          "data": {
            "text/plain": [
              "Index(['t', 'success', 'mid', 'pmt', 'pg', 'sub_type', 'hr', 'bank'], dtype='object')"
            ]
          },
          "metadata": {},
          "execution_count": 7
        }
      ]
    },
    {
      "cell_type": "code",
      "source": [
        "df.isnull().sum()"
      ],
      "metadata": {
        "colab": {
          "base_uri": "https://localhost:8080/"
        },
        "id": "5o9Ei02jNazM",
        "outputId": "42ceb4de-1a6a-4d12-ed13-1ef1afca18e5"
      },
      "execution_count": null,
      "outputs": [
        {
          "output_type": "execute_result",
          "data": {
            "text/plain": [
              "t               0\n",
              "success         0\n",
              "mid             0\n",
              "pmt             0\n",
              "pg             37\n",
              "sub_type    16404\n",
              "hr              0\n",
              "bank          338\n",
              "dtype: int64"
            ]
          },
          "metadata": {},
          "execution_count": 8
        }
      ]
    },
    {
      "cell_type": "code",
      "source": [
        "df = df.drop(['sub_type'], axis = 1)"
      ],
      "metadata": {
        "id": "B6YRWunnnXL6"
      },
      "execution_count": null,
      "outputs": []
    },
    {
      "cell_type": "code",
      "source": [
        "df.isnull().sum()"
      ],
      "metadata": {
        "colab": {
          "base_uri": "https://localhost:8080/"
        },
        "id": "0RWYeYdDnXJV",
        "outputId": "880d4992-f541-4787-ddad-afdb63c8524b"
      },
      "execution_count": null,
      "outputs": [
        {
          "output_type": "execute_result",
          "data": {
            "text/plain": [
              "t            0\n",
              "success      0\n",
              "mid          0\n",
              "pmt          0\n",
              "pg          37\n",
              "hr           0\n",
              "bank       338\n",
              "dtype: int64"
            ]
          },
          "metadata": {},
          "execution_count": 10
        }
      ]
    },
    {
      "cell_type": "code",
      "source": [
        "import seaborn as sns\n",
        "import matplotlib\n",
        "import matplotlib.pyplot as plt\n",
        "%matplotlib inline\n",
        "\n",
        "sns.set_style('darkgrid')\n",
        "matplotlib.rcParams['font.size'] = 14\n",
        "matplotlib.rcParams['figure.figsize'] = (9, 5)\n",
        "matplotlib.rcParams['figure.facecolor'] = '#00000000'"
      ],
      "metadata": {
        "id": "bm6CSuHEnW19"
      },
      "execution_count": null,
      "outputs": []
    },
    {
      "cell_type": "code",
      "source": [
        "from IPython.core.display import HTML\n",
        "HTML(\"\"\"\n",
        "<style>\n",
        ".output_png {\n",
        "    display: table-cell;\n",
        "    text-align: center;\n",
        "    vertical-align: middle;\n",
        "}\n",
        "</style>\n",
        "\"\"\")"
      ],
      "metadata": {
        "colab": {
          "base_uri": "https://localhost:8080/",
          "height": 17
        },
        "id": "OfWeKSHVn6xh",
        "outputId": "dd0a6681-2db4-403b-ea4f-6f28e68a8df0"
      },
      "execution_count": null,
      "outputs": [
        {
          "output_type": "execute_result",
          "data": {
            "text/plain": [
              "<IPython.core.display.HTML object>"
            ],
            "text/html": [
              "\n",
              "<style>\n",
              ".output_png {\n",
              "    display: table-cell;\n",
              "    text-align: center;\n",
              "    vertical-align: middle;\n",
              "}\n",
              "</style>\n"
            ]
          },
          "metadata": {},
          "execution_count": 12
        }
      ]
    },
    {
      "cell_type": "code",
      "source": [
        "success_rate = []\n",
        "for i in range(len(df)):\n",
        "  success_rate = (df['success']*100)/df['t']\n",
        "\n",
        "df['success_rate'] = success_rate"
      ],
      "metadata": {
        "id": "3aaaTLezn6uB"
      },
      "execution_count": null,
      "outputs": []
    },
    {
      "cell_type": "code",
      "source": [
        "df.head()"
      ],
      "metadata": {
        "colab": {
          "base_uri": "https://localhost:8080/",
          "height": 206
        },
        "id": "ESwRpLsHn6rp",
        "outputId": "c5813271-5c7f-4749-9031-339990c7d997"
      },
      "execution_count": null,
      "outputs": [
        {
          "output_type": "execute_result",
          "data": {
            "text/plain": [
              "   t  success            mid     pmt           pg             hr  \\\n",
              "0  2        1         zivame      NB         PAYU  2020-02-14 06   \n",
              "1  1        0      urbanclap      NB        PAYTM  2020-02-14 06   \n",
              "2  5        1  pharmeasytech  WALLET  AIRTELMONEY  2020-02-14 11   \n",
              "3  1        1  pharmeasytech    CARD         PAYU  2020-02-14 12   \n",
              "4  1        1       fanfight    CARD     RAZORPAY  2020-02-14 06   \n",
              "\n",
              "                                  bank  success_rate  \n",
              "0                              NB_CITI          50.0  \n",
              "1                              NB_SYNB           0.0  \n",
              "2                          AIRTELMONEY          20.0  \n",
              "3  THE SATARA SAHAKARI BANK LTD MUMBAI         100.0  \n",
              "4                                  DCB         100.0  "
            ],
            "text/html": [
              "\n",
              "  <div id=\"df-0da39f48-c142-4d92-ab5f-4471d9ca6560\">\n",
              "    <div class=\"colab-df-container\">\n",
              "      <div>\n",
              "<style scoped>\n",
              "    .dataframe tbody tr th:only-of-type {\n",
              "        vertical-align: middle;\n",
              "    }\n",
              "\n",
              "    .dataframe tbody tr th {\n",
              "        vertical-align: top;\n",
              "    }\n",
              "\n",
              "    .dataframe thead th {\n",
              "        text-align: right;\n",
              "    }\n",
              "</style>\n",
              "<table border=\"1\" class=\"dataframe\">\n",
              "  <thead>\n",
              "    <tr style=\"text-align: right;\">\n",
              "      <th></th>\n",
              "      <th>t</th>\n",
              "      <th>success</th>\n",
              "      <th>mid</th>\n",
              "      <th>pmt</th>\n",
              "      <th>pg</th>\n",
              "      <th>hr</th>\n",
              "      <th>bank</th>\n",
              "      <th>success_rate</th>\n",
              "    </tr>\n",
              "  </thead>\n",
              "  <tbody>\n",
              "    <tr>\n",
              "      <th>0</th>\n",
              "      <td>2</td>\n",
              "      <td>1</td>\n",
              "      <td>zivame</td>\n",
              "      <td>NB</td>\n",
              "      <td>PAYU</td>\n",
              "      <td>2020-02-14 06</td>\n",
              "      <td>NB_CITI</td>\n",
              "      <td>50.0</td>\n",
              "    </tr>\n",
              "    <tr>\n",
              "      <th>1</th>\n",
              "      <td>1</td>\n",
              "      <td>0</td>\n",
              "      <td>urbanclap</td>\n",
              "      <td>NB</td>\n",
              "      <td>PAYTM</td>\n",
              "      <td>2020-02-14 06</td>\n",
              "      <td>NB_SYNB</td>\n",
              "      <td>0.0</td>\n",
              "    </tr>\n",
              "    <tr>\n",
              "      <th>2</th>\n",
              "      <td>5</td>\n",
              "      <td>1</td>\n",
              "      <td>pharmeasytech</td>\n",
              "      <td>WALLET</td>\n",
              "      <td>AIRTELMONEY</td>\n",
              "      <td>2020-02-14 11</td>\n",
              "      <td>AIRTELMONEY</td>\n",
              "      <td>20.0</td>\n",
              "    </tr>\n",
              "    <tr>\n",
              "      <th>3</th>\n",
              "      <td>1</td>\n",
              "      <td>1</td>\n",
              "      <td>pharmeasytech</td>\n",
              "      <td>CARD</td>\n",
              "      <td>PAYU</td>\n",
              "      <td>2020-02-14 12</td>\n",
              "      <td>THE SATARA SAHAKARI BANK LTD MUMBAI</td>\n",
              "      <td>100.0</td>\n",
              "    </tr>\n",
              "    <tr>\n",
              "      <th>4</th>\n",
              "      <td>1</td>\n",
              "      <td>1</td>\n",
              "      <td>fanfight</td>\n",
              "      <td>CARD</td>\n",
              "      <td>RAZORPAY</td>\n",
              "      <td>2020-02-14 06</td>\n",
              "      <td>DCB</td>\n",
              "      <td>100.0</td>\n",
              "    </tr>\n",
              "  </tbody>\n",
              "</table>\n",
              "</div>\n",
              "      <button class=\"colab-df-convert\" onclick=\"convertToInteractive('df-0da39f48-c142-4d92-ab5f-4471d9ca6560')\"\n",
              "              title=\"Convert this dataframe to an interactive table.\"\n",
              "              style=\"display:none;\">\n",
              "        \n",
              "  <svg xmlns=\"http://www.w3.org/2000/svg\" height=\"24px\"viewBox=\"0 0 24 24\"\n",
              "       width=\"24px\">\n",
              "    <path d=\"M0 0h24v24H0V0z\" fill=\"none\"/>\n",
              "    <path d=\"M18.56 5.44l.94 2.06.94-2.06 2.06-.94-2.06-.94-.94-2.06-.94 2.06-2.06.94zm-11 1L8.5 8.5l.94-2.06 2.06-.94-2.06-.94L8.5 2.5l-.94 2.06-2.06.94zm10 10l.94 2.06.94-2.06 2.06-.94-2.06-.94-.94-2.06-.94 2.06-2.06.94z\"/><path d=\"M17.41 7.96l-1.37-1.37c-.4-.4-.92-.59-1.43-.59-.52 0-1.04.2-1.43.59L10.3 9.45l-7.72 7.72c-.78.78-.78 2.05 0 2.83L4 21.41c.39.39.9.59 1.41.59.51 0 1.02-.2 1.41-.59l7.78-7.78 2.81-2.81c.8-.78.8-2.07 0-2.86zM5.41 20L4 18.59l7.72-7.72 1.47 1.35L5.41 20z\"/>\n",
              "  </svg>\n",
              "      </button>\n",
              "      \n",
              "  <style>\n",
              "    .colab-df-container {\n",
              "      display:flex;\n",
              "      flex-wrap:wrap;\n",
              "      gap: 12px;\n",
              "    }\n",
              "\n",
              "    .colab-df-convert {\n",
              "      background-color: #E8F0FE;\n",
              "      border: none;\n",
              "      border-radius: 50%;\n",
              "      cursor: pointer;\n",
              "      display: none;\n",
              "      fill: #1967D2;\n",
              "      height: 32px;\n",
              "      padding: 0 0 0 0;\n",
              "      width: 32px;\n",
              "    }\n",
              "\n",
              "    .colab-df-convert:hover {\n",
              "      background-color: #E2EBFA;\n",
              "      box-shadow: 0px 1px 2px rgba(60, 64, 67, 0.3), 0px 1px 3px 1px rgba(60, 64, 67, 0.15);\n",
              "      fill: #174EA6;\n",
              "    }\n",
              "\n",
              "    [theme=dark] .colab-df-convert {\n",
              "      background-color: #3B4455;\n",
              "      fill: #D2E3FC;\n",
              "    }\n",
              "\n",
              "    [theme=dark] .colab-df-convert:hover {\n",
              "      background-color: #434B5C;\n",
              "      box-shadow: 0px 1px 3px 1px rgba(0, 0, 0, 0.15);\n",
              "      filter: drop-shadow(0px 1px 2px rgba(0, 0, 0, 0.3));\n",
              "      fill: #FFFFFF;\n",
              "    }\n",
              "  </style>\n",
              "\n",
              "      <script>\n",
              "        const buttonEl =\n",
              "          document.querySelector('#df-0da39f48-c142-4d92-ab5f-4471d9ca6560 button.colab-df-convert');\n",
              "        buttonEl.style.display =\n",
              "          google.colab.kernel.accessAllowed ? 'block' : 'none';\n",
              "\n",
              "        async function convertToInteractive(key) {\n",
              "          const element = document.querySelector('#df-0da39f48-c142-4d92-ab5f-4471d9ca6560');\n",
              "          const dataTable =\n",
              "            await google.colab.kernel.invokeFunction('convertToInteractive',\n",
              "                                                     [key], {});\n",
              "          if (!dataTable) return;\n",
              "\n",
              "          const docLinkHtml = 'Like what you see? Visit the ' +\n",
              "            '<a target=\"_blank\" href=https://colab.research.google.com/notebooks/data_table.ipynb>data table notebook</a>'\n",
              "            + ' to learn more about interactive tables.';\n",
              "          element.innerHTML = '';\n",
              "          dataTable['output_type'] = 'display_data';\n",
              "          await google.colab.output.renderOutput(dataTable, element);\n",
              "          const docLink = document.createElement('div');\n",
              "          docLink.innerHTML = docLinkHtml;\n",
              "          element.appendChild(docLink);\n",
              "        }\n",
              "      </script>\n",
              "    </div>\n",
              "  </div>\n",
              "  "
            ]
          },
          "metadata": {},
          "execution_count": 14
        }
      ]
    },
    {
      "cell_type": "code",
      "source": [
        "np.sort(df.success_rate.unique())"
      ],
      "metadata": {
        "colab": {
          "base_uri": "https://localhost:8080/"
        },
        "id": "5k49uhNVrPGB",
        "outputId": "bde4b76d-13d5-441c-e761-a8e94fd86d93"
      },
      "execution_count": null,
      "outputs": [
        {
          "output_type": "execute_result",
          "data": {
            "text/plain": [
              "array([  0.        ,   2.85714286,   3.125     , ...,  96.77419355,\n",
              "        97.05882353, 100.        ])"
            ]
          },
          "metadata": {},
          "execution_count": 15
        }
      ]
    },
    {
      "cell_type": "code",
      "source": [
        "df_new = df.drop(['t', 'success'], axis = 1)"
      ],
      "metadata": {
        "id": "FwXTc9PIprZM"
      },
      "execution_count": null,
      "outputs": []
    },
    {
      "cell_type": "markdown",
      "source": [
        "Considering success rate less than 75% as less success rate"
      ],
      "metadata": {
        "id": "UPTq_MuCskmo"
      }
    },
    {
      "cell_type": "code",
      "source": [
        "df_final = df_new[df_new['success_rate'] <= 75]"
      ],
      "metadata": {
        "id": "EHYBLRx2uRJ3"
      },
      "execution_count": null,
      "outputs": []
    },
    {
      "cell_type": "code",
      "source": [
        "df_final.shape"
      ],
      "metadata": {
        "colab": {
          "base_uri": "https://localhost:8080/"
        },
        "id": "XFBZ74bln6hJ",
        "outputId": "f3edb9e9-b565-4476-ae62-1ab5013b003d"
      },
      "execution_count": null,
      "outputs": [
        {
          "output_type": "execute_result",
          "data": {
            "text/plain": [
              "(9614, 6)"
            ]
          },
          "metadata": {},
          "execution_count": 18
        }
      ]
    },
    {
      "cell_type": "code",
      "source": [
        "df_final[['Date','hr']] = df_final['hr'].str.split(' ',expand=True)"
      ],
      "metadata": {
        "id": "DRO5D_iJn6MG"
      },
      "execution_count": null,
      "outputs": []
    },
    {
      "cell_type": "code",
      "source": [
        "df_final.head()"
      ],
      "metadata": {
        "colab": {
          "base_uri": "https://localhost:8080/",
          "height": 206
        },
        "id": "SpGoKgWIut_y",
        "outputId": "4e2d5c28-a1b3-415a-bb4d-7be0d3a1b848"
      },
      "execution_count": null,
      "outputs": [
        {
          "output_type": "execute_result",
          "data": {
            "text/plain": [
              "              mid     pmt           pg  hr                        bank  \\\n",
              "0          zivame      NB         PAYU  06                     NB_CITI   \n",
              "1       urbanclap      NB        PAYTM  06                     NB_SYNB   \n",
              "2   pharmeasytech  WALLET  AIRTELMONEY  11                 AIRTELMONEY   \n",
              "6        fanfight    CARD   GOCASHFREE  09  Abhyudaya Cooperative Bank   \n",
              "10      urbanclap      NB        PAYTM  03                      NB_CSB   \n",
              "\n",
              "    success_rate        Date  \n",
              "0           50.0  2020-02-14  \n",
              "1            0.0  2020-02-14  \n",
              "2           20.0  2020-02-14  \n",
              "6           50.0  2020-02-14  \n",
              "10           0.0  2020-02-14  "
            ],
            "text/html": [
              "\n",
              "  <div id=\"df-715f50ba-e63f-4f0f-ac2c-2ce24b073f7b\">\n",
              "    <div class=\"colab-df-container\">\n",
              "      <div>\n",
              "<style scoped>\n",
              "    .dataframe tbody tr th:only-of-type {\n",
              "        vertical-align: middle;\n",
              "    }\n",
              "\n",
              "    .dataframe tbody tr th {\n",
              "        vertical-align: top;\n",
              "    }\n",
              "\n",
              "    .dataframe thead th {\n",
              "        text-align: right;\n",
              "    }\n",
              "</style>\n",
              "<table border=\"1\" class=\"dataframe\">\n",
              "  <thead>\n",
              "    <tr style=\"text-align: right;\">\n",
              "      <th></th>\n",
              "      <th>mid</th>\n",
              "      <th>pmt</th>\n",
              "      <th>pg</th>\n",
              "      <th>hr</th>\n",
              "      <th>bank</th>\n",
              "      <th>success_rate</th>\n",
              "      <th>Date</th>\n",
              "    </tr>\n",
              "  </thead>\n",
              "  <tbody>\n",
              "    <tr>\n",
              "      <th>0</th>\n",
              "      <td>zivame</td>\n",
              "      <td>NB</td>\n",
              "      <td>PAYU</td>\n",
              "      <td>06</td>\n",
              "      <td>NB_CITI</td>\n",
              "      <td>50.0</td>\n",
              "      <td>2020-02-14</td>\n",
              "    </tr>\n",
              "    <tr>\n",
              "      <th>1</th>\n",
              "      <td>urbanclap</td>\n",
              "      <td>NB</td>\n",
              "      <td>PAYTM</td>\n",
              "      <td>06</td>\n",
              "      <td>NB_SYNB</td>\n",
              "      <td>0.0</td>\n",
              "      <td>2020-02-14</td>\n",
              "    </tr>\n",
              "    <tr>\n",
              "      <th>2</th>\n",
              "      <td>pharmeasytech</td>\n",
              "      <td>WALLET</td>\n",
              "      <td>AIRTELMONEY</td>\n",
              "      <td>11</td>\n",
              "      <td>AIRTELMONEY</td>\n",
              "      <td>20.0</td>\n",
              "      <td>2020-02-14</td>\n",
              "    </tr>\n",
              "    <tr>\n",
              "      <th>6</th>\n",
              "      <td>fanfight</td>\n",
              "      <td>CARD</td>\n",
              "      <td>GOCASHFREE</td>\n",
              "      <td>09</td>\n",
              "      <td>Abhyudaya Cooperative Bank</td>\n",
              "      <td>50.0</td>\n",
              "      <td>2020-02-14</td>\n",
              "    </tr>\n",
              "    <tr>\n",
              "      <th>10</th>\n",
              "      <td>urbanclap</td>\n",
              "      <td>NB</td>\n",
              "      <td>PAYTM</td>\n",
              "      <td>03</td>\n",
              "      <td>NB_CSB</td>\n",
              "      <td>0.0</td>\n",
              "      <td>2020-02-14</td>\n",
              "    </tr>\n",
              "  </tbody>\n",
              "</table>\n",
              "</div>\n",
              "      <button class=\"colab-df-convert\" onclick=\"convertToInteractive('df-715f50ba-e63f-4f0f-ac2c-2ce24b073f7b')\"\n",
              "              title=\"Convert this dataframe to an interactive table.\"\n",
              "              style=\"display:none;\">\n",
              "        \n",
              "  <svg xmlns=\"http://www.w3.org/2000/svg\" height=\"24px\"viewBox=\"0 0 24 24\"\n",
              "       width=\"24px\">\n",
              "    <path d=\"M0 0h24v24H0V0z\" fill=\"none\"/>\n",
              "    <path d=\"M18.56 5.44l.94 2.06.94-2.06 2.06-.94-2.06-.94-.94-2.06-.94 2.06-2.06.94zm-11 1L8.5 8.5l.94-2.06 2.06-.94-2.06-.94L8.5 2.5l-.94 2.06-2.06.94zm10 10l.94 2.06.94-2.06 2.06-.94-2.06-.94-.94-2.06-.94 2.06-2.06.94z\"/><path d=\"M17.41 7.96l-1.37-1.37c-.4-.4-.92-.59-1.43-.59-.52 0-1.04.2-1.43.59L10.3 9.45l-7.72 7.72c-.78.78-.78 2.05 0 2.83L4 21.41c.39.39.9.59 1.41.59.51 0 1.02-.2 1.41-.59l7.78-7.78 2.81-2.81c.8-.78.8-2.07 0-2.86zM5.41 20L4 18.59l7.72-7.72 1.47 1.35L5.41 20z\"/>\n",
              "  </svg>\n",
              "      </button>\n",
              "      \n",
              "  <style>\n",
              "    .colab-df-container {\n",
              "      display:flex;\n",
              "      flex-wrap:wrap;\n",
              "      gap: 12px;\n",
              "    }\n",
              "\n",
              "    .colab-df-convert {\n",
              "      background-color: #E8F0FE;\n",
              "      border: none;\n",
              "      border-radius: 50%;\n",
              "      cursor: pointer;\n",
              "      display: none;\n",
              "      fill: #1967D2;\n",
              "      height: 32px;\n",
              "      padding: 0 0 0 0;\n",
              "      width: 32px;\n",
              "    }\n",
              "\n",
              "    .colab-df-convert:hover {\n",
              "      background-color: #E2EBFA;\n",
              "      box-shadow: 0px 1px 2px rgba(60, 64, 67, 0.3), 0px 1px 3px 1px rgba(60, 64, 67, 0.15);\n",
              "      fill: #174EA6;\n",
              "    }\n",
              "\n",
              "    [theme=dark] .colab-df-convert {\n",
              "      background-color: #3B4455;\n",
              "      fill: #D2E3FC;\n",
              "    }\n",
              "\n",
              "    [theme=dark] .colab-df-convert:hover {\n",
              "      background-color: #434B5C;\n",
              "      box-shadow: 0px 1px 3px 1px rgba(0, 0, 0, 0.15);\n",
              "      filter: drop-shadow(0px 1px 2px rgba(0, 0, 0, 0.3));\n",
              "      fill: #FFFFFF;\n",
              "    }\n",
              "  </style>\n",
              "\n",
              "      <script>\n",
              "        const buttonEl =\n",
              "          document.querySelector('#df-715f50ba-e63f-4f0f-ac2c-2ce24b073f7b button.colab-df-convert');\n",
              "        buttonEl.style.display =\n",
              "          google.colab.kernel.accessAllowed ? 'block' : 'none';\n",
              "\n",
              "        async function convertToInteractive(key) {\n",
              "          const element = document.querySelector('#df-715f50ba-e63f-4f0f-ac2c-2ce24b073f7b');\n",
              "          const dataTable =\n",
              "            await google.colab.kernel.invokeFunction('convertToInteractive',\n",
              "                                                     [key], {});\n",
              "          if (!dataTable) return;\n",
              "\n",
              "          const docLinkHtml = 'Like what you see? Visit the ' +\n",
              "            '<a target=\"_blank\" href=https://colab.research.google.com/notebooks/data_table.ipynb>data table notebook</a>'\n",
              "            + ' to learn more about interactive tables.';\n",
              "          element.innerHTML = '';\n",
              "          dataTable['output_type'] = 'display_data';\n",
              "          await google.colab.output.renderOutput(dataTable, element);\n",
              "          const docLink = document.createElement('div');\n",
              "          docLink.innerHTML = docLinkHtml;\n",
              "          element.appendChild(docLink);\n",
              "        }\n",
              "      </script>\n",
              "    </div>\n",
              "  </div>\n",
              "  "
            ]
          },
          "metadata": {},
          "execution_count": 68
        }
      ]
    },
    {
      "cell_type": "code",
      "source": [
        "merchant_count = df_final.mid.value_counts()\n",
        "merchant_count"
      ],
      "metadata": {
        "colab": {
          "base_uri": "https://localhost:8080/"
        },
        "id": "P_9p-zC6n6eV",
        "outputId": "725fa207-3aaf-4199-94d1-f9191a5ed3d9"
      },
      "execution_count": null,
      "outputs": [
        {
          "output_type": "execute_result",
          "data": {
            "text/plain": [
              "fanfight          1774\n",
              "medlife_prod      1342\n",
              "pharmeasytech     1324\n",
              "drivezy           1315\n",
              "urbanclap         1289\n",
              "purplle.com        996\n",
              "zivame             974\n",
              "countrydelight     600\n",
              "Name: mid, dtype: int64"
            ]
          },
          "metadata": {},
          "execution_count": 41
        }
      ]
    },
    {
      "cell_type": "code",
      "source": [
        "merchant_count.plot(kind = 'bar', color = [\"#D9514EFF\", \"#435E55FF\"], figsize=(15, 8))\n",
        "plt.title(\"Number of less success rate transactions per merchant\")\n",
        "plt.ylabel(\"Number of transactions\")"
      ],
      "metadata": {
        "colab": {
          "base_uri": "https://localhost:8080/",
          "height": 619
        },
        "id": "0595mdohn6bv",
        "outputId": "bce7eaa2-a6f5-422d-d5fb-1246129f1968"
      },
      "execution_count": null,
      "outputs": [
        {
          "output_type": "execute_result",
          "data": {
            "text/plain": [
              "Text(0, 0.5, 'Number of transactions')"
            ]
          },
          "metadata": {},
          "execution_count": 42
        },
        {
          "output_type": "display_data",
          "data": {
            "text/plain": [
              "<Figure size 1080x576 with 1 Axes>"
            ],
            "image/png": "[encoded data removed]"
          },
          "metadata": {
            "needs_background": "light"
          }
        }
      ]
    },
    {
      "cell_type": "code",
      "source": [
        "payment_method = df_final.pmt.value_counts()\n",
        "payment_method"
      ],
      "metadata": {
        "colab": {
          "base_uri": "https://localhost:8080/"
        },
        "id": "8UQEg0U3n6Zo",
        "outputId": "b72b70c9-8de9-4ef3-e6a3-1955bbfbcfb7"
      },
      "execution_count": null,
      "outputs": [
        {
          "output_type": "execute_result",
          "data": {
            "text/plain": [
              "CARD                4063\n",
              "NB                  3099\n",
              "WALLET              1810\n",
              "UPI                  618\n",
              "CONSUMER_FINANCE      24\n",
              "Name: pmt, dtype: int64"
            ]
          },
          "metadata": {},
          "execution_count": 43
        }
      ]
    },
    {
      "cell_type": "code",
      "source": [
        "payment_method.plot(kind = 'bar', color = [\"#D9514EFF\", \"#435E55FF\"], figsize=(15, 8))\n",
        "plt.title(\"Number of less success rate transactions per payment method \")\n",
        "plt.ylabel(\"Number of transactions\")"
      ],
      "metadata": {
        "colab": {
          "base_uri": "https://localhost:8080/",
          "height": 659
        },
        "id": "FVJvTYqrn6XB",
        "outputId": "c328d1e1-83af-4dfa-d236-a4f5ac284908"
      },
      "execution_count": null,
      "outputs": [
        {
          "output_type": "execute_result",
          "data": {
            "text/plain": [
              "Text(0, 0.5, 'Number of transactions')"
            ]
          },
          "metadata": {},
          "execution_count": 44
        },
        {
          "output_type": "display_data",
          "data": {
            "text/plain": [
              "<Figure size 1080x576 with 1 Axes>"
            ],
            "image/png": "[encoded data removed]"
          },
          "metadata": {
            "needs_background": "light"
          }
        }
      ]
    },
    {
      "cell_type": "code",
      "source": [
        "payment_gateaway = df_final.pg.value_counts()\n",
        "payment_gateaway"
      ],
      "metadata": {
        "colab": {
          "base_uri": "https://localhost:8080/"
        },
        "id": "sP_IKwgPn6UK",
        "outputId": "4fdfa350-9635-4721-d525-96a7c1611fcf"
      },
      "execution_count": null,
      "outputs": [
        {
          "output_type": "execute_result",
          "data": {
            "text/plain": [
              "PAYU              2119\n",
              "PAYTM             2110\n",
              "RAZORPAY          1640\n",
              "GOCASHFREE        1084\n",
              "TPSL               599\n",
              "PAYTM_V2           487\n",
              "PAYPAL             337\n",
              "HDFC               252\n",
              "MOBIKWIK           205\n",
              "PHONEPE            201\n",
              "AMAZONPAY          124\n",
              "FREECHARGE         122\n",
              "OLAPOSTPAID         82\n",
              "PAYTM_UPI           63\n",
              "ZAAKPAY             45\n",
              "AIRTELMONEY         38\n",
              "IPG                 31\n",
              "EPAYLATER           22\n",
              "FSS_ATM_PIN_V2      16\n",
              "Name: pg, dtype: int64"
            ]
          },
          "metadata": {},
          "execution_count": 45
        }
      ]
    },
    {
      "cell_type": "code",
      "source": [
        "df_final.pg.unique()"
      ],
      "metadata": {
        "colab": {
          "base_uri": "https://localhost:8080/"
        },
        "id": "kuIfW8hwn6O4",
        "outputId": "4d78c3bc-ac62-4de0-d2b6-e9c09786103d"
      },
      "execution_count": null,
      "outputs": [
        {
          "output_type": "execute_result",
          "data": {
            "text/plain": [
              "array(['PAYU', 'PAYTM', 'AIRTELMONEY', 'GOCASHFREE', 'RAZORPAY', 'HDFC',\n",
              "       'TPSL', nan, 'EPAYLATER', 'FSS_ATM_PIN_V2', 'PAYTM_V2',\n",
              "       'PAYTM_UPI', 'ZAAKPAY', 'PAYPAL', 'PHONEPE', 'MOBIKWIK', 'IPG',\n",
              "       'AMAZONPAY', 'FREECHARGE', 'OLAPOSTPAID'], dtype=object)"
            ]
          },
          "metadata": {},
          "execution_count": 46
        }
      ]
    },
    {
      "cell_type": "code",
      "source": [
        "payment_gateaway.plot(kind = 'bar', color = [\"#D9514EFF\", \"#435E55FF\"], figsize=(15, 8))\n",
        "plt.title(\"Number of less success rate transactions per payment gateaway \")\n",
        "plt.ylabel(\"Number of transactions\")"
      ],
      "metadata": {
        "colab": {
          "base_uri": "https://localhost:8080/",
          "height": 627
        },
        "id": "vLAq6K_Dw0u0",
        "outputId": "5ee6ba9d-eb2f-470b-e039-0a6458807a38"
      },
      "execution_count": null,
      "outputs": [
        {
          "output_type": "execute_result",
          "data": {
            "text/plain": [
              "Text(0, 0.5, 'Number of transactions')"
            ]
          },
          "metadata": {},
          "execution_count": 47
        },
        {
          "output_type": "display_data",
          "data": {
            "text/plain": [
              "<Figure size 1080x576 with 1 Axes>"
            ],
            "image/png": "[encoded data removed]"
          },
          "metadata": {
            "needs_background": "light"
          }
        }
      ]
    },
    {
      "cell_type": "code",
      "source": [
        "labels = ['PAYU', 'PAYTM', 'AIRTELMONEY', 'RAZORPAY', 'GOCASHFREE', 'TPSL',\n",
        "       'HDFC', 'EPAYLATER', 'FSS_ATM_PIN_V2', 'IPG']\n",
        "plt.pie(payment_gateaway[0:10], labels = labels, startangle=60, autopct='%1.2f%%')\n",
        "plt.title(\"Number of less success rate transactions per payment gateaway\")\n",
        "fig = plt.gcf()\n",
        "fig.set_size_inches(8, 8)"
      ],
      "metadata": {
        "colab": {
          "base_uri": "https://localhost:8080/",
          "height": 486
        },
        "id": "z0b9y032n6Ri",
        "outputId": "5a9564b7-e6a0-447c-ba18-d317e58eb9c7"
      },
      "execution_count": null,
      "outputs": [
        {
          "output_type": "display_data",
          "data": {
            "text/plain": [
              "<Figure size 576x576 with 1 Axes>"
            ],
            "image/png": "[encoded data removed]"
          },
          "metadata": {}
        }
      ]
    },
    {
      "cell_type": "code",
      "source": [
        "payment_hour = df_final.hr.value_counts()\n",
        "payment_hour"
      ],
      "metadata": {
        "colab": {
          "base_uri": "https://localhost:8080/"
        },
        "id": "Xu7xtXG2n6Jg",
        "outputId": "f9d510fc-2826-4dcd-f325-412715a08032"
      },
      "execution_count": null,
      "outputs": [
        {
          "output_type": "execute_result",
          "data": {
            "text/plain": [
              "15    571\n",
              "14    545\n",
              "06    539\n",
              "05    534\n",
              "08    533\n",
              "07    533\n",
              "12    516\n",
              "13    515\n",
              "09    514\n",
              "11    504\n",
              "10    498\n",
              "16    475\n",
              "04    469\n",
              "03    424\n",
              "17    407\n",
              "02    369\n",
              "18    354\n",
              "19    280\n",
              "01    267\n",
              "20    217\n",
              "00    179\n",
              "21    156\n",
              "22    109\n",
              "23    106\n",
              "Name: hr, dtype: int64"
            ]
          },
          "metadata": {},
          "execution_count": 49
        }
      ]
    },
    {
      "cell_type": "code",
      "source": [
        "payment_hour.plot(kind = 'bar', color = [\"#D9514EFF\", \"#435E55FF\"], figsize=(15, 8))\n",
        "plt.title(\"Number of less success rate transactions w.r.t hour\")\n",
        "plt.ylabel(\"Number of transactions\")"
      ],
      "metadata": {
        "colab": {
          "base_uri": "https://localhost:8080/",
          "height": 528
        },
        "id": "7bcaTNuTn6Gs",
        "outputId": "ac97b95c-b547-48ac-b763-91596d7ba268"
      },
      "execution_count": null,
      "outputs": [
        {
          "output_type": "execute_result",
          "data": {
            "text/plain": [
              "Text(0, 0.5, 'Number of transactions')"
            ]
          },
          "metadata": {},
          "execution_count": 66
        },
        {
          "output_type": "display_data",
          "data": {
            "text/plain": [
              "<Figure size 1080x576 with 1 Axes>"
            ],
            "image/png": "[encoded data removed]"
          },
          "metadata": {
            "needs_background": "light"
          }
        }
      ]
    },
    {
      "cell_type": "code",
      "source": [
        "payment_bank = df_final.bank.value_counts()\n",
        "payment_bank = payment_bank[0:10]\n",
        "payment_bank"
      ],
      "metadata": {
        "colab": {
          "base_uri": "https://localhost:8080/"
        },
        "id": "pY28-jdTywmK",
        "outputId": "6dbf9228-92ad-40f2-990e-237e5addc4b2"
      },
      "execution_count": null,
      "outputs": [
        {
          "output_type": "execute_result",
          "data": {
            "text/plain": [
              "UPI                    616\n",
              "PAYTM                  534\n",
              "NB_SBI                 438\n",
              "PAYPAL                 337\n",
              "NB_HDFC                310\n",
              "NB_AXIS                296\n",
              "NB_ICICI               287\n",
              "Kotak Mahindra Bank    236\n",
              "HDFC Bank              231\n",
              "SBI                    227\n",
              "Name: bank, dtype: int64"
            ]
          },
          "metadata": {},
          "execution_count": 53
        }
      ]
    },
    {
      "cell_type": "code",
      "source": [
        "payment_bank.plot(kind = 'bar', color = [\"#D9514EFF\", \"#435E55FF\"], figsize=(15, 8))\n",
        "plt.title(\"Number of less success rate transactions w.r.t payment bank\")\n",
        "plt.ylabel(\"Number of transactions\")"
      ],
      "metadata": {
        "colab": {
          "base_uri": "https://localhost:8080/",
          "height": 659
        },
        "id": "4MT52aO_ywof",
        "outputId": "c56dee30-1602-421f-bf8b-fb8669f46007"
      },
      "execution_count": null,
      "outputs": [
        {
          "output_type": "execute_result",
          "data": {
            "text/plain": [
              "Text(0, 0.5, 'Number of transactions')"
            ]
          },
          "metadata": {},
          "execution_count": 64
        },
        {
          "output_type": "display_data",
          "data": {
            "text/plain": [
              "<Figure size 1080x576 with 1 Axes>"
            ],
            "image/png": "[encoded data removed]"
          },
          "metadata": {
            "needs_background": "light"
          }
        }
      ]
    },
    {
      "cell_type": "code",
      "source": [
        "labels = ['UPI', 'PAYTM', 'NB_SBI', 'PAYPAL', 'NB_HDFC', 'NB_AXIS', 'NB_ICICI', 'Kotak Mahindra Bank', 'HDFC Bank', 'SBI']\n",
        "plt.pie(payment_bank, labels = labels, startangle=60, autopct='%1.2f%%')\n",
        "centre_circle = plt.Circle((0, 0.0), 0.70, fc='white')\n",
        "plt.title(\"Number of less success rate transactions w.r.t payment bank\")\n",
        "fig = plt.gcf()\n",
        "fig.gca().add_artist(centre_circle)\n",
        "fig.set_size_inches(8, 8)\n"
      ],
      "metadata": {
        "colab": {
          "base_uri": "https://localhost:8080/",
          "height": 486
        },
        "id": "BsGCtmM1ywrG",
        "outputId": "31b62f9c-a0b0-40c7-e29c-88533aebc842"
      },
      "execution_count": null,
      "outputs": [
        {
          "output_type": "display_data",
          "data": {
            "text/plain": [
              "<Figure size 576x576 with 1 Axes>"
            ],
            "image/png": "[encoded data removed]"
          },
          "metadata": {}
        }
      ]
    },
    {
      "cell_type": "markdown",
      "source": [
        "## **Insights**\n",
        "\n",
        "There are columns 19307, and 8 rows \n",
        "The less succes rate is 75% \n",
        "\n",
        "###GATEWAY-\n",
        "- **Less success rate ** transctions where high in IPG, FSS ATM PIN V2, EPAYLATER,HDFC, TPSL, GOCASH.\n",
        "- **Avg less succes rate ** transaction where in Razorpay and Airtel Money.\n",
        "- **High success rate ** transaction where in Ptm and PAYU.\n",
        "\n",
        "### PAYMENT METHOD-\n",
        "**Highest Less Success Rate Transations:**\n",
        "*   Consumer Finance\n",
        "*   UPI\n",
        "\n",
        "### MERCHANT-\n",
        "**Highest less success rate transactions per Merchant is** - Country Delight and Zivame\n",
        "\n",
        "\n",
        "\n"
      ],
      "metadata": {
        "id": "sv4bPZAN3xQR"
      }
    },
    {
      "cell_type": "markdown",
      "source": [
        "# **How could we have detected this issue before the merchant reported?**\n",
        "\n",
        "Keep a track of transactions happining, focus on duration of transactions, and \n",
        "failer of transactions happening.\n",
        "\n",
        "\n",
        "To keep track set an Alert to such kind of transactions so that the Technical team will get updates before Merchant complains and also the issue will be resolved soon. [**ML based anomaly deduction algorithms for deducting Payment Failure Alert**]\n",
        "\n",
        "**We can use Statistical Techniques to deduct failure if transactions such as-**\n",
        "*   Z-score\n",
        "*   Modified Z-score\n",
        "*   Interquartile Range\n",
        "\n",
        "\n",
        "\n",
        "\n"
      ],
      "metadata": {
        "id": "K9ZnSw1o82h1"
      }
    }
  ]
}